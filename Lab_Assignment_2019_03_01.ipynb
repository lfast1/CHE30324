{
  "nbformat": 4,
  "nbformat_minor": 0,
  "metadata": {
    "colab": {
      "name": "Lab_Assignment_2019_03_01.ipynb",
      "version": "0.3.2",
      "provenance": [],
      "include_colab_link": true
    },
    "kernelspec": {
      "display_name": "Python 3",
      "language": "python",
      "name": "python3"
    }
  },
  "cells": [
    {
      "cell_type": "markdown",
      "metadata": {
        "id": "view-in-github",
        "colab_type": "text"
      },
      "source": [
        "<a href=\"https://colab.research.google.com/github/lfast1/CHE30324/blob/master/Lab_Assignment_2019_03_01.ipynb\" target=\"_parent\"><img src=\"https://colab.research.google.com/assets/colab-badge.svg\" alt=\"Open In Colab\"/></a>"
      ]
    },
    {
      "metadata": {
        "id": "gog2icNwoFqX",
        "colab_type": "text"
      },
      "cell_type": "markdown",
      "source": [
        "# Lab Assignment: March 1, 2019\n",
        "\n",
        "The purpose of this lab assignment is to indentify all elements of a state space model for the temperature control lab. When finished, you will have an a complete and accurate model for how this system responds to command inputs. This model will be subsequently used to implement high performance estimation and control algorithms.\n",
        "\n",
        "This lab assignment should be turned by the end of the day, Friday, March 8th."
      ]
    },
    {
      "metadata": {
        "id": "mhcq_jkGoFqY",
        "colab_type": "text"
      },
      "cell_type": "markdown",
      "source": [
        "## The Model\n",
        "\n",
        "The TCLab model consists of four states comprising the temperatures of heaters 1 and 2, and sensors 1 and 2. The measured outputs are the sensor temperatures. The inputs are $u_1$ and $u_2$ which range in value from 0 (off) to 1 (on). Parameteres $P_1$ and $P_2$ denote the maximum power of each heater which are 4 and 2 watts, respectively.\n",
        "\n",
        "\\begin{align}\n",
        "C^H_p\\frac{dT_{H1}}{dt} & = U_a(T_{amb} - T_{H1}) + U_b(T_{H2}-T_{H1}) + U_c(T_{S1} - T_{H1}) + P_1u_1\\\\\n",
        "C^S_p\\frac{dT_{S1}}{dt} & = U_c(T_{H1} - T_{S1})  \\\\\n",
        "C^H_p\\frac{dT_{H2}}{dt} & = U_a(T_{amb} - T_{H2}) + U_b(T_{H1}-T_{H2}) + U_c(T_{S2} - T_{H2}) + P_2u_2\\\\\n",
        "C^S_p\\frac{dT_{S2}}{dt} & = U_c(T_{H2} - T_{S2}) \n",
        "\\end{align}\n",
        "\n",
        "We can assume the two heater/sensor assemblies have the same parameter values (except for $P_1$ and $P_2$, as noted above.)  "
      ]
    },
    {
      "metadata": {
        "id": "nojQEd21oFqZ",
        "colab_type": "text"
      },
      "cell_type": "markdown",
      "source": [
        "#### Exercise 1 (in lab)\n",
        "\n",
        "Perform step test experiments using both heaters 1 and 2.  Keeping in mind that $P_1 = 4$ watts and $P_2 = 2$ watts, design your experiments so they use no more than 2 watts of power.  Collect data for the response of both sensors in at least two experiments.\n",
        "\n",
        "Be careful when saving your data to a file. Verify that you have two usable data sets before leaving lab."
      ]
    },
    {
      "metadata": {
        "id": "WgbJ37aeoFqZ",
        "colab_type": "text"
      },
      "cell_type": "markdown",
      "source": [
        "#### Exercise 2 (derivation)\n",
        "\n",
        "Recast this model into state-space form where the states are deviations in the temperatures from room temperature $T_{amb}$. The state model should be in the form\n",
        "\n",
        "\\begin{align*}\n",
        "\\frac{dx}{dt} & = A x + B u \\\\\n",
        "y & = C x + D u \n",
        "\\end{align*}\n",
        "\n",
        "where $A$, $B$, $C$, and $D$ are matrices. The input $u$ will have two elements, and the output $y$ will refer to the sensor temperatures."
      ]
    },
    {
      "metadata": {
        "id": "Lbf0R2HooFqa",
        "colab_type": "text"
      },
      "cell_type": "markdown",
      "source": [
        "#### Exercise 3 (computational)\n",
        "\n",
        "Use the results of exercises 1 and 2, now attempt to find a common set of values for the parameters $C^H_p$, $C^S_p$, $U_a$, $U_b$, and $U_c$ that match the model to all of the data you collected. (In other words, do not find a separate set of parameter values for each experiment. Find only one set that matches all experiments.)\n",
        "\n",
        "Your results should include a graphical comparison of the simulated and experimental results."
      ]
    },
    {
      "metadata": {
        "id": "B4KMjDHsoFqb",
        "colab_type": "code",
        "colab": {}
      },
      "cell_type": "code",
      "source": [
        ""
      ],
      "execution_count": 0,
      "outputs": []
    }
  ]
}