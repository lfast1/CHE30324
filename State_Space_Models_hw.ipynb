{
  "nbformat": 4,
  "nbformat_minor": 0,
  "metadata": {
    "colab": {
      "name": "State_Space_Models.ipynb",
      "version": "0.3.2",
      "provenance": [],
      "include_colab_link": true
    },
    "kernelspec": {
      "display_name": "Python 3",
      "language": "python",
      "name": "python3"
    }
  },
  "cells": [
    {
      "cell_type": "markdown",
      "metadata": {
        "id": "view-in-github",
        "colab_type": "text"
      },
      "source": [
        "<a href=\"https://colab.research.google.com/github/lfast1/CHE30324/blob/master/State_Space_Models_hw.ipynb\" target=\"_parent\"><img src=\"https://colab.research.google.com/assets/colab-badge.svg\" alt=\"Open In Colab\"/></a>"
      ]
    },
    {
      "metadata": {
        "id": "zvJ0iklE45NT",
        "colab_type": "text"
      },
      "cell_type": "markdown",
      "source": [
        "# State-Space Models\n",
        "\n",
        "CBE 30338 Class notes for 2/28/2019\n",
        "\n",
        "* Installing the [Python Control Systems Library](https://python-control.readthedocs.io/en/0.8.1/index.html)\n",
        "* Introduction to State Space Models\n",
        "    * Standard form\n",
        "    * Example: First order model for TCLab\n",
        "    * Example: Generic first order system with gain and time constant\n",
        "    * Example: Second order model for TCLab\n",
        "* Fitting State-Space Models to Experimental Data\n",
        "    * Example: Fitting the second order model for TCLab\n",
        "    * Example: Fitting a generic ('black box') second order model\n",
        "* Exercises\n",
        "\n",
        "    "
      ]
    },
    {
      "metadata": {
        "id": "FYe9EziK45NU",
        "colab_type": "text"
      },
      "cell_type": "markdown",
      "source": [
        "## Install the Python Control Systems Library\n",
        "\n",
        "This notebook will use functions from the [Python Control Systems Library](https://python-control.readthedocs.io/en/0.8.1/index.html) to work with state-space models. The installation is straightforward but typically takes more time than other library installations. Expect anywhere from 1 to 10 minutes to complete the one-time installation."
      ]
    },
    {
      "metadata": {
        "id": "6HbQ_tKU45NV",
        "colab_type": "text"
      },
      "cell_type": "markdown",
      "source": [
        "### Instructons for Anaconda"
      ]
    },
    {
      "metadata": {
        "id": "MAobpF_t45NV",
        "colab_type": "code",
        "colab": {}
      },
      "cell_type": "code",
      "source": [
        "#!conda install -c conda-forge control -y"
      ],
      "execution_count": 0,
      "outputs": []
    },
    {
      "metadata": {
        "id": "vyQJ4HBS45NZ",
        "colab_type": "text"
      },
      "cell_type": "markdown",
      "source": [
        "### Instructions for Google Colab"
      ]
    },
    {
      "metadata": {
        "id": "bMbp96g645Na",
        "colab_type": "code",
        "colab": {}
      },
      "cell_type": "code",
      "source": [
        "#!pip install slycot\n",
        "#!pip install control"
      ],
      "execution_count": 0,
      "outputs": []
    },
    {
      "metadata": {
        "id": "8ooqAhZc45Nc",
        "colab_type": "text"
      },
      "cell_type": "markdown",
      "source": [
        "### Test Installation\n",
        "\n",
        "The following cell should execute without error if the Python Control Systems Library has been correctly installed."
      ]
    },
    {
      "metadata": {
        "id": "II1dXM3s45Nd",
        "colab_type": "code",
        "colab": {}
      },
      "cell_type": "code",
      "source": [
        "!python -c \"import control\""
      ],
      "execution_count": 0,
      "outputs": []
    },
    {
      "metadata": {
        "id": "_SQE8IQf45Nf",
        "colab_type": "text"
      },
      "cell_type": "markdown",
      "source": [
        "## Introduction to State-Space Models\n",
        "\n",
        "A state-space model is one where the dynamics of the **state** $x$ is modeled by one or more first order linear differential equation with input $u$.\n",
        "\n",
        "\\begin{align*}\n",
        "\\frac{dx}{dt} & = Ax + Bu \\\\\n",
        "y & = C x + D u \n",
        "\\end{align*}\n",
        "\n",
        "The second equation provides for the case where the process output $y$ is different from the state. Normally $x$, $y$, and $u$ are deviation variables.  $A$, $B$, $C$, and $D$ are parameters pertaining the a particular application.\n",
        " "
      ]
    },
    {
      "metadata": {
        "id": "0KJ7nFtE45Ng",
        "colab_type": "text"
      },
      "cell_type": "markdown",
      "source": [
        "### Example: First Order Model for the Temperature Control Laboratory\n",
        "\n",
        "As an example, consider our model equation for temperature control lab experiment,\n",
        "\n",
        "\\begin{align*}\n",
        "C_p \\frac{dT}{dt} & = U_a(T_{amb} - T) + P u \\\\\n",
        "\\end{align*}\n",
        "\n",
        "We'll define the state as the deviation variable $x = T - T_{amb}$ and directly measure $x$. Simple algebraic manipulations allow to recast thei is standard form of a state-space model.\n",
        "\n",
        "\\begin{align*}\n",
        "\\frac{dx}{dt} & = \\underbrace{-\\frac{U_a}{C_p}}_{A} x + \\underbrace{\\frac{P}{C_p}}_{B} u \\\\\n",
        "y  & = \\underbrace{(1)}_C x + \\underbrace{(0)}_D u\n",
        "\\end{align*}\n",
        "\n",
        "The next cell shows how to create a state-space model using the Python Control Systems Library using data measured on the Temperature Control Laboratory.  There are many things that can be done with a state-space model, such as plotting the response to unit step input as shown in the next cell."
      ]
    },
    {
      "metadata": {
        "id": "xi9acjTp45Ng",
        "colab_type": "code",
        "colab": {},
        "outputId": "756d647e-8a9a-4693-8178-9db1d4ae4756"
      },
      "cell_type": "code",
      "source": [
        "%matplotlib inline\n",
        "import matplotlib.pyplot as plt\n",
        "import control\n",
        "\n",
        "# parameter estimates\n",
        "P = 4*0.05   # power input when the system is turned on, i.e., 50% of 4 watts\n",
        "Ua = P/35    # the steady state temperaure increase is 35 deg C. \n",
        "Cp = 120*Ua  # determined from first-order time constant tau = 250\n",
        "\n",
        "# state space parameters\n",
        "A = -Ua/Cp\n",
        "B = P/Cp\n",
        "C = 1\n",
        "D = 0\n",
        "\n",
        "# create the state space model object\n",
        "tclab = control.StateSpace(A, B, C, D)\n",
        "print(tclab)\n",
        "\n",
        "# perform the step response simulation returning vectors with time and output\n",
        "t, y = control.step_response(tclab)\n",
        "\n",
        "# plot the results\n",
        "plt.plot(t,y)\n",
        "plt.xlabel('time / sec')\n",
        "plt.ylabel('temperature change / deg C')\n",
        "plt.title('Step Reponse of the Temperature Control Laboratory')\n",
        "plt.grid(True)"
      ],
      "execution_count": 0,
      "outputs": [
        {
          "output_type": "stream",
          "text": [
            "A = [[-0.00833333]]\n",
            "\n",
            "B = [[0.29166667]]\n",
            "\n",
            "C = [[1]]\n",
            "\n",
            "D = [[0]]\n",
            "\n"
          ],
          "name": "stdout"
        },
        {
          "output_type": "display_data",
          "data": {
            "image/png": "[encoded data removed]",
            "text/plain": [
              "<Figure size 432x288 with 1 Axes>"
            ]
          },
          "metadata": {
            "tags": [],
            "needs_background": "light"
          }
        }
      ]
    },
    {
      "metadata": {
        "id": "sXgzAE5v45Nk",
        "colab_type": "text"
      },
      "cell_type": "markdown",
      "source": [
        "### Example: Generic First-Order Process Model\n",
        "\n",
        "For process control it is useful to define a generic first-order model defined by a characteristic time constant $\\tau$ and steady-state gain $K$ that is written as\n",
        "\n",
        "\\begin{align*}\n",
        "\\tau \\frac{dy}{dt} + y & = K u \\\\\n",
        "\\end{align*}\n",
        "\n",
        "where $u$ is a deviation in a process input, and $y$ is the observed deviation in process response.\n",
        "\n",
        "This model can be rearranged into state-space form. First identify the state as $x = y$. Then rearrange the equations into the following form\n",
        "\n",
        "\\begin{align*}\n",
        "\\frac{dx}{dt} & = \\underbrace{-\\frac{1}{\\tau}}_{A} x + \\underbrace{\\frac{K}{\\tau}}_{B} u \\\\\n",
        "y  & = \\underbrace{(1)}_C x + \\underbrace{(0)}_D u\n",
        "\\end{align*}\n",
        "\n",
        "The next cell demonstrates how to plot the step response for a system with a time constant of $\\tau=3$ minutes and a gain $K = 12$. Here we let the step response function automatically generate the time grid."
      ]
    },
    {
      "metadata": {
        "id": "qE-Ih6ca45Nl",
        "colab_type": "code",
        "colab": {},
        "outputId": "74aca44b-4a50-49c3-ebd3-f1b869128092"
      },
      "cell_type": "code",
      "source": [
        "%matplotlib inline\n",
        "import matplotlib.pyplot as plt\n",
        "import control \n",
        "\n",
        "# parameters for a generic first order system\n",
        "K = 12\n",
        "tau = 3\n",
        "\n",
        "# compute parameters for an equivalent state space model\n",
        "A = -1/tau\n",
        "B = K/tau\n",
        "C = 1\n",
        "D = 0\n",
        "\n",
        "# create the state space model object\n",
        "sys = control.StateSpace(A, B, C, D)\n",
        "print(sys)\n",
        "\n",
        "# perform the step response simulation returning vectors with time and output\n",
        "t, y = control.step_response(sys)\n",
        "\n",
        "# plot the results\n",
        "plt.plot(t,y)\n",
        "plt.xlabel('time / sec')\n",
        "plt.ylabel('temperature change / deg C')\n",
        "plt.title('Step Reponse of the Temperature Control Laboratory')\n",
        "plt.grid(True)"
      ],
      "execution_count": 0,
      "outputs": [
        {
          "output_type": "stream",
          "text": [
            "A = [[-0.33333333]]\n",
            "\n",
            "B = [[4.]]\n",
            "\n",
            "C = [[1]]\n",
            "\n",
            "D = [[0]]\n",
            "\n"
          ],
          "name": "stdout"
        },
        {
          "output_type": "display_data",
          "data": {
            "image/png": "[encoded data removed]",
            "text/plain": [
              "<Figure size 432x288 with 1 Axes>"
            ]
          },
          "metadata": {
            "tags": [],
            "needs_background": "light"
          }
        }
      ]
    },
    {
      "metadata": {
        "id": "A7wZk02X45Nn",
        "colab_type": "text"
      },
      "cell_type": "markdown",
      "source": [
        "## Multivariable State Space Models\n",
        "\n",
        "The great value of state space models is that they provide a natural way to model complex systems succinctly. The key is to recognize that $u$, $x$, and $y$ can be extended to vectors tat include many process variables. The corresponding parameters $A$, $B$, $C$, and $D$ are then matrix quantities that can account for the complex interactions among the process variables."
      ]
    },
    {
      "metadata": {
        "id": "ZH09gCl145No",
        "colab_type": "text"
      },
      "cell_type": "markdown",
      "source": [
        "### Example: Temperature Control Lab\n",
        "\n",
        "Here we extend the model for the temperature control to account for a difference between the heater temperature $T_H$ and sensor temperature $T_S$. The model is written as\n",
        "\n",
        "\\begin{align*}\n",
        "C^H_p \\frac{dT_H}{dt} & = U_a (T_{amb} - T_H) + U_c(T_S - T_H) + P u \\\\\n",
        "C^S_p \\frac{dT_S}{dt} & = U_c(T_H - T_S)\n",
        "\\end{align*}\n",
        "\n",
        "where $C^H_p$ and $C^S_p$ are the total heat capacities of the heater and sensor, respectively. $U_c$ is the total heat transfer coefficient corresponding to the heat flux between the heater and sensor.\n",
        "\n",
        "The state variables denote the deviation of the heater and sensor temperatures from room temperature. These are given by $x_1 = T_H - T_{amb}$ and $x_2 = T_S - T_{amb}$, respectively. Because $x_1$ and $x_2$ use the same reference for computing deviations, $T_S - T_H = x_2 - x_1$.  \n",
        "\n",
        "\\begin{align*}\n",
        "C^H_p \\frac{dx_1}{dt} & = -U_a x_1 + U_c(x_2 - x_1) + P u \\\\\n",
        "C^S_p \\frac{dT_S}{dt} & = U_c(x_1 - x_2)\n",
        "\\end{align*}\n",
        "\n",
        "Gathering terms in $x_1$ and $x_2$, and adding an algebraic equation to show how the available measurements are related to the state variables\n",
        "\n",
        "\\begin{align*}\n",
        "\\frac{dx_1}{dt} & = -\\frac{(U_a + U_c)}{C^H_p} x_1 + \\frac{U_c}{C^H_p} x_2 + \\frac{P}{C^H_p} u \\\\\n",
        "\\frac{dx_2}{dt} & = \\frac{U_c}{C^S_p} x_1 -  \\frac{U_c}{C^S_p} x_2 \\\\\n",
        "y & = x_2\n",
        "\\end{align*}\n",
        "\n",
        "The next step is streamline this model using a matrix/vector notation\n",
        "\n",
        "\\begin{align*}\n",
        "\\frac{d}{dt}\\begin{bmatrix} x_1 \\\\ x_2 \\end{bmatrix} & = \n",
        "\\begin{bmatrix} -\\frac{(U_a + U_c)}{C^H_p} & \\frac{U_c}{C^H_p} \\\\ \\frac{U_c}{C^S_p} & -\\frac{U_c}{C^S_p} \\end{bmatrix}\\begin{bmatrix} x_1 \\\\ x_2 \\end{bmatrix} +\n",
        "\\begin{bmatrix} \\frac{P}{C^H_p} \\\\ 0 \\end{bmatrix} u \\\\\n",
        "y & = \\begin{bmatrix} 0 &  1 \\end{bmatrix}\\begin{bmatrix} x_1 \\\\ x_2 \\end{bmatrix} + \\begin{bmatrix} 0 \\end{bmatrix} u\n",
        "\\end{align*}\n",
        "\n",
        "The final step is to label the matrices and vectors\n",
        "\n",
        "\\begin{align*}\n",
        "\\frac{d}{dt}\\begin{bmatrix} x_1 \\\\ x_2 \\end{bmatrix} & = \n",
        "\\underbrace{\\begin{bmatrix} -\\frac{(U_a + U_c)}{C^H_p} & \\frac{U_c}{C^H_p} \\\\ \\frac{U_c}{C^S_p} & -\\frac{U_c}{C^S_p} \\end{bmatrix}}_A \\underbrace{\\begin{bmatrix} x_1 \\\\ x_2 \\end{bmatrix}}_x +\n",
        "\\underbrace{\\begin{bmatrix} \\frac{P}{C^H_p} \\\\ 0 \\end{bmatrix}}_B u \\\\\n",
        "y & = \\underbrace{\\begin{bmatrix} 0 &  1 \\end{bmatrix}}_C \n",
        "\\underbrace{\\begin{bmatrix} x_1 \\\\ x_2 \\end{bmatrix}}_x + \\underbrace{\\begin{bmatrix} 0 \\end{bmatrix}}_D u\n",
        "\\end{align*}\n",
        "\n",
        "The next cell shows how to create a python object representing this model, then use it to create the simulated step response."
      ]
    },
    {
      "metadata": {
        "id": "ptU6Dnoh45Np",
        "colab_type": "code",
        "colab": {},
        "outputId": "0f64022b-d6e4-47e6-8a2e-5b9238c72953"
      },
      "cell_type": "code",
      "source": [
        "%matplotlib inline\n",
        "import matplotlib.pyplot as plt\n",
        "import numpy as np\n",
        "import control \n",
        "\n",
        "# parameter estimates\n",
        "P = 4*0.5         # power input when the system is turned on, i.e., 50% of 4 watts\n",
        "Ua = P/35         # the steady state temperaure increase is 35 deg C. \n",
        "CpH = 0.9*120*Ua  # assign 90% of the heat capacity to the heater\n",
        "CpS = 0.1*CpH     # assign 90% of the heat capacity to the heater\n",
        "Uc = Ua           # \n",
        "\n",
        "# compute parameters for an equivalent state space model\n",
        "A = [[-(Ua + Uc)/CpH, Uc/CpH], [Uc/CpS, -Uc/CpS]]\n",
        "B = [[P/CpH], [0]] # single column\n",
        "C = [[0, 1]]   # single row\n",
        "D = [[0]]\n",
        "\n",
        "# create the state space model object\n",
        "tclab2 = control.StateSpace(A, B, C, D)\n",
        "print(tclab2)\n",
        "\n",
        "# perform the step response simulation returning vectors with time and output\n",
        "t, y = control.step_response(tclab2)\n",
        "\n",
        "# plot the results\n",
        "plt.plot(t,y)\n",
        "plt.xlabel('time / sec')\n",
        "plt.ylabel('temperature change / deg C')\n",
        "plt.title('Step Response of the Temperature Control Laboratory')\n",
        "plt.grid(True)"
      ],
      "execution_count": 0,
      "outputs": [
        {
          "output_type": "stream",
          "text": [
            "A = [[-0.01851852  0.00925926]\n",
            " [ 0.09259259 -0.09259259]]\n",
            "\n",
            "B = [[0.32407407]\n",
            " [0.        ]]\n",
            "\n",
            "C = [[0 1]]\n",
            "\n",
            "D = [[0]]\n",
            "\n"
          ],
          "name": "stdout"
        },
        {
          "output_type": "display_data",
          "data": {
            "image/png": "[encoded data removed]",
            "text/plain": [
              "<Figure size 432x288 with 1 Axes>"
            ]
          },
          "metadata": {
            "tags": [],
            "needs_background": "light"
          }
        }
      ]
    },
    {
      "metadata": {
        "id": "kUO0HJf745Nr",
        "colab_type": "text"
      },
      "cell_type": "markdown",
      "source": [
        "## Fitting State Space Models to Data"
      ]
    },
    {
      "metadata": {
        "id": "BiFH2Qdu45Nt",
        "colab_type": "text"
      },
      "cell_type": "markdown",
      "source": [
        "### Accessing Experimental Data"
      ]
    },
    {
      "metadata": {
        "id": "w5kk5BGI45Nt",
        "colab_type": "code",
        "colab": {},
        "outputId": "32490d5b-a9b6-4527-d3a1-d801c43e4769"
      },
      "cell_type": "code",
      "source": [
        "%matplotlib inline\n",
        "import matplotlib.pyplot as plt\n",
        "import pandas as pd\n",
        "import numpy as np\n",
        "\n",
        "# read data from saved spreadsheet (.csv) file\n",
        "data = pd.read_csv('Step_Test_Data.csv').set_index('Time')[1:]\n",
        "tdata = data.index\n",
        "T1data = data['T1'].values\n",
        "T2data = data['T2'].values\n",
        "\n",
        "# plot data\n",
        "plt.plot(tdata, T1data, tdata, T2data)\n",
        "plt.xlabel('time / sec')\n",
        "plt.ylabel('temperature change / deg C')\n",
        "plt.title('Experimental Response of the Temperature Control Laboratory')\n",
        "plt.grid(True)"
      ],
      "execution_count": 0,
      "outputs": [
        {
          "output_type": "display_data",
          "data": {
            "image/png": "[encoded data removed]",
            "text/plain": [
              "<Figure size 432x288 with 1 Axes>"
            ]
          },
          "metadata": {
            "tags": [],
            "needs_background": "light"
          }
        }
      ]
    },
    {
      "metadata": {
        "id": "_E_DnWRg45Nw",
        "colab_type": "text"
      },
      "cell_type": "markdown",
      "source": [
        "The next cell creates a deviation variable for the temperature of the first sensor."
      ]
    },
    {
      "metadata": {
        "id": "SY1Hqn0c45Nw",
        "colab_type": "code",
        "colab": {},
        "outputId": "72bb0a9a-9459-46a1-e24c-51cda9f53b11"
      },
      "cell_type": "code",
      "source": [
        "# interpolate to an evenly spaced time grid\n",
        "t = np.linspace(min(tdata), max(tdata), len(tdata))\n",
        "ydata = np.interp(t, tdata, T1data-T1data[0])\n",
        "\n",
        "# plot data\n",
        "plt.plot(t, ydata)\n",
        "plt.xlabel('time / sec')\n",
        "plt.ylabel('temperature change / deg C')\n",
        "plt.title('Experimental Response of the Temperature Control Laboratory')\n",
        "plt.grid(True)"
      ],
      "execution_count": 0,
      "outputs": [
        {
          "output_type": "display_data",
          "data": {
            "image/png": "[encoded data removed]",
            "text/plain": [
              "<Figure size 432x288 with 1 Axes>"
            ]
          },
          "metadata": {
            "tags": [],
            "needs_background": "light"
          }
        }
      ]
    },
    {
      "metadata": {
        "id": "j4jRIrcn45N0",
        "colab_type": "text"
      },
      "cell_type": "markdown",
      "source": [
        "### Fitting the two-state model for TCLab to experimental data"
      ]
    },
    {
      "metadata": {
        "id": "lQVIIwYs45N1",
        "colab_type": "code",
        "colab": {},
        "outputId": "0a5ddc1a-3cec-41ed-b183-0730ef96c60a"
      },
      "cell_type": "code",
      "source": [
        "%matplotlib inline\n",
        "import matplotlib.pyplot as plt\n",
        "import numpy as np\n",
        "import control\n",
        "from ipywidgets import interact\n",
        "\n",
        "P = 4*0.5          # watts\n",
        "\n",
        "def compare(Ua, Uc, CpH, CpS):\n",
        "\n",
        "    print('Ua = ' + str(Ua), '\\nUc = ' + str(Uc),\n",
        "          '\\nCpH = ' + str(CpH), '\\nCpH = ' + str(CpS))\n",
        "        \n",
        "    A = [[-(Ua + Uc)/CpH, Uc/CpH], [Uc/CpS, -Uc/CpS]]\n",
        "    B = [[P/CpH], [0]]\n",
        "    C = [[0, 1]]\n",
        "    D = [[0]]\n",
        "\n",
        "    # create the state space model object\n",
        "    tclab2 = control.StateSpace(A, B, C, D)\n",
        "\n",
        "    # plot the response to a unit step input\n",
        "    t = np.linspace(min(tdata), max(tdata), len(tdata))\n",
        "    t, y, x = control.step_response(tclab2, t, return_x=True)\n",
        "    err = np.linalg.norm(x[1] - ydata)\n",
        "\n",
        "    plt.figure(figsize=(12, 3))\n",
        "    plt.subplot(1, 2, 1)\n",
        "    plt.plot(t, x[0], t, x[1])\n",
        "    plt.plot(t, ydata)\n",
        "    plt.legend(['Heater', 'Sensor'])\n",
        "    plt.xlabel('time / sec')\n",
        "    plt.ylabel('temperature change / deg C')\n",
        "    plt.title('Step Reponse of the Temperature Control Laboratory')\n",
        "    plt.grid(True)\n",
        "    \n",
        "    plt.subplot(1, 2, 2)\n",
        "    plt.plot(t, x[1]-ydata)\n",
        "    plt.title('Error = ' + str(round(err,3)))\n",
        "    plt.grid(True)\n",
        "    plt.tight_layout()\n",
        "    \n",
        "interact(compare,\n",
        "    Ua=(0,0.08,0.001), \n",
        "    Uc=(0,0.06,0.001), \n",
        "    CpH=(3,11,0.1), \n",
        "    CpS = (0.1,2,.01))"
      ],
      "execution_count": 0,
      "outputs": [
        {
          "output_type": "display_data",
          "data": {
            "application/vnd.jupyter.widget-view+json": {
              "model_id": "4f56d41a6b6047039fc9ac0a9ec259f2",
              "version_major": 2,
              "version_minor": 0
            },
            "text/plain": [
              "interactive(children=(FloatSlider(value=0.04, description='Ua', max=0.08, step=0.001), FloatSlider(value=0.03,…"
            ]
          },
          "metadata": {
            "tags": []
          }
        },
        {
          "output_type": "execute_result",
          "data": {
            "text/plain": [
              "<function __main__.compare(Ua, Uc, CpH, CpS)>"
            ]
          },
          "metadata": {
            "tags": []
          },
          "execution_count": 28
        }
      ]
    },
    {
      "metadata": {
        "id": "6mf1N9ut45N3",
        "colab_type": "text"
      },
      "cell_type": "markdown",
      "source": [
        "## Fitting a Generic Second Order Model\n",
        "\n",
        "A generic model for a stable second order system is given the form\n",
        "\\begin{align*}\n",
        "\\tau^2 \\frac{d^2y}{dt^2} + 2\\zeta\\tau\\frac{dy}{dt} + y & = K u\n",
        "\\end{align*}\n",
        "\n",
        "where $K$ is the steady-state gain, $\\tau$ is a time constant, and $\\zeta$ is the damping factor. A value of $0 \\leq \\zeta \\lt 1$ corresponds to an **underdamped** system, a value $\\zeta > 1$ is **overdamped**, and a value $\\zeta = 1$ separating these two categories is called **critically** damped.\n",
        "\n",
        "Now we'll show how this system can written as a state-space model with two states. Start by choosing\n",
        "\n",
        "\\begin{align*}\n",
        "x_1 & = y \\\\\n",
        "x_2 & = \\frac{dy}{dt}\n",
        "\\end{align*}\n",
        "\n",
        "Taking derivatives\n",
        "\n",
        "\\begin{align*}\n",
        "\\frac{dx_1}{dt} & = \\frac{dy}{dt} = x_2 \\\\\n",
        "\\frac{dx_2}{dt} & = \\frac{d^2y}{dt^2} = -\\frac{1}{\\tau^2}x_1 - \\frac{2\\zeta}{\\tau}x_2 + \\frac{K}{\\tau^2} u\n",
        "\\end{align*}\n",
        "\n",
        "From here we can write out a state-space version of this model\n",
        "\n",
        "\\begin{align*}\n",
        "\\frac{d}{dt}\\begin{bmatrix}x_1 \\\\ x_2\\end{bmatrix} & =\n",
        "\\underbrace{\\begin{bmatrix}0 & 1 \\\\ -\\frac{1}{\\tau^2} & - \\frac{2\\zeta}{\\tau}\\end{bmatrix}}_A \\underbrace{\\begin{bmatrix}x_1 \\\\ x_2\\end{bmatrix}}_x + \\underbrace{\\begin{bmatrix} 0 \\\\ \\frac{K}{\\tau^2}\\end{bmatrix}}_B u \\\\\n",
        "y & = \\underbrace{\\begin{bmatrix}1 & 0\\end{bmatrix}}_C \\underbrace{\\begin{bmatrix}x_1 \\\\ x_2\\end{bmatrix}}_x + \\underbrace{\\begin{bmatrix}0\\end{bmatrix}}_D u\n",
        "\\end{align*}"
      ]
    },
    {
      "metadata": {
        "id": "qF1fsdMi45N4",
        "colab_type": "code",
        "colab": {},
        "outputId": "56619a97-624e-456f-a747-c2fd723e010f"
      },
      "cell_type": "code",
      "source": [
        "%matplotlib inline\n",
        "import matplotlib.pyplot as plt\n",
        "import numpy as np\n",
        "import control\n",
        "from ipywidgets import interact\n",
        "\n",
        "# read data from saved spreadsheet (.csv) file\n",
        "data = pd.read_csv('Step_Test_Data.csv').set_index('Time')[1:]\n",
        "tdata = data.index\n",
        "Tdata = data['T1'].values\n",
        "\n",
        "# interpolate to an evenly spaced time grid\n",
        "t = np.linspace(min(tdata), max(tdata), len(tdata))\n",
        "ydata = np.interp(t, tdata, Tdata-Tdata[0])\n",
        "\n",
        "K = 35        # determined from first-order time constant tau = 250\n",
        "tau = 150      # time constant\n",
        "zeta = 1      # determined from steady-state step response\n",
        "\n",
        "def compare(K, tau, zeta):\n",
        "\n",
        "    print('K = ' + str(K), '\\ntau = ' + str(tau), '\\nzeta = ' + str(zeta))\n",
        "        \n",
        "    A = [[0, 1], [-1/tau**2, -2*zeta/tau]]\n",
        "    B = [[0], [K/tau**2]]\n",
        "    C = [[1, 0]]\n",
        "    D = [[0]]\n",
        "\n",
        "    # create the state space model object\n",
        "    tclab2 = control.StateSpace(A, B, C, D)\n",
        "\n",
        "    # plot the response to a unit step input\n",
        "    t = np.linspace(min(tdata), max(tdata), len(tdata))\n",
        "    t, y = control.step_response(tclab2, t)\n",
        "    err = np.linalg.norm(x[1] - ydata)\n",
        "\n",
        "    plt.figure(figsize=(10, 6))\n",
        "    plt.subplot(2, 1, 1)\n",
        "    plt.plot(t, y)\n",
        "    plt.plot(t, ydata)\n",
        "    plt.legend(['Heater', 'Sensor'])\n",
        "    plt.xlabel('time / sec')\n",
        "    plt.ylabel('temperature change / deg C')\n",
        "    plt.title('Step Reponse of the Temperature Control Laboratory')\n",
        "    plt.grid(True)\n",
        "    \n",
        "    plt.subplot(2, 1, 2)\n",
        "    plt.plot(t, y-ydata)\n",
        "    plt.title('Error = ' + str(round(err,3)))\n",
        "    plt.grid(True)\n",
        "    plt.tight_layout()\n",
        "    \n",
        "interact(compare,\n",
        "    K = (0, 50, .5), \n",
        "    tau = (10, 180, 2), \n",
        "    zeta = (0, 3, .03))"
      ],
      "execution_count": 0,
      "outputs": [
        {
          "output_type": "display_data",
          "data": {
            "application/vnd.jupyter.widget-view+json": {
              "model_id": "b5edeb4acf60460bbb759ae5a701781a",
              "version_major": 2,
              "version_minor": 0
            },
            "text/plain": [
              "interactive(children=(FloatSlider(value=25.0, description='K', max=50.0, step=0.5), IntSlider(value=94, descri…"
            ]
          },
          "metadata": {
            "tags": []
          }
        },
        {
          "output_type": "execute_result",
          "data": {
            "text/plain": [
              "<function __main__.compare(K, tau, zeta)>"
            ]
          },
          "metadata": {
            "tags": []
          },
          "execution_count": 122
        }
      ]
    },
    {
      "metadata": {
        "id": "Uv6Ds1K745N7",
        "colab_type": "text"
      },
      "cell_type": "markdown",
      "source": [
        "## Two First Order Systems in Series\n",
        "\n",
        "\\begin{align*}\n",
        "\\tau_1\\frac{dy_1}{dt} + y_1 & = K_1 u \\\\\n",
        "\\tau_2\\frac{dy_2}{dt} + y_2 & = K_2 y_1 \n",
        "\\end{align*}\n",
        "\n",
        "Recasting as a state-space model\n",
        "\n",
        "\\begin{align*}\n",
        "\\frac{d}{dt}\\begin{bmatrix}x_1 \\\\ x_2\\end{bmatrix} & =\n",
        "\\underbrace{\\begin{bmatrix}-\\frac{1}{\\tau_1} & 0 \\\\ \\frac{K_2}{\\tau_2} & - \\frac{1}{\\tau_2}\\end{bmatrix}}_A \\underbrace{\\begin{bmatrix}x_1 \\\\ x_2\\end{bmatrix}}_x + \\underbrace{\\begin{bmatrix} \\frac{K_1}{\\tau_1} \\\\ 0\\end{bmatrix}}_B u \\\\\n",
        "y & = \\underbrace{\\begin{bmatrix}0 & 1\\end{bmatrix}}_C \\underbrace{\\begin{bmatrix}x_1 \\\\ x_2\\end{bmatrix}}_x + \\underbrace{\\begin{bmatrix}0\\end{bmatrix}}_D u\n",
        "\\end{align*}\n",
        "\n",
        "Note that $K_1$ and $K_2$ are not independent.  "
      ]
    },
    {
      "metadata": {
        "id": "oD8BnW_R45N9",
        "colab_type": "code",
        "colab": {},
        "outputId": "7b5235d5-4296-4363-aefe-52ec25abc906"
      },
      "cell_type": "code",
      "source": [
        "%matplotlib inline\n",
        "import matplotlib.pyplot as plt\n",
        "import numpy as np\n",
        "import control\n",
        "from ipywidgets import interact\n",
        "\n",
        "# read data from saved spreadsheet (.csv) file\n",
        "data = pd.read_csv('Step_Test_Data.csv').set_index('Time')[1:]\n",
        "tdata = data.index\n",
        "Tdata = data['T1'].values\n",
        "\n",
        "# interpolate to an evenly spaced time grid\n",
        "t = np.linspace(min(tdata), max(tdata), len(tdata))\n",
        "ydata = np.interp(t, tdata, Tdata-Tdata[0])\n",
        "\n",
        "K = 35        # determined from first-order time constant tau = 250\n",
        "tau1 = 80      # time constant\n",
        "tau2 = 20     # determined from steady-state step response\n",
        "\n",
        "def compare(K, tau1, tau2):\n",
        "\n",
        "    print('K = ' + str(K), '\\ntau1 = ' + str(tau1), '\\ntau2 = ' + str(tau2))\n",
        "        \n",
        "    A = [[-1/tau1, 0], [1/tau2, -1/tau2]]\n",
        "    B = [[K/tau1], [0]]\n",
        "    C = [[0, 1]]\n",
        "    D = [[0]]\n",
        "\n",
        "    # create the state space model object\n",
        "    tclab2 = control.StateSpace(A, B, C, D)\n",
        "\n",
        "    # plot the response to a unit step input\n",
        "    t = np.linspace(min(tdata), max(tdata), len(tdata))\n",
        "    t, y = control.step_response(tclab2, t)\n",
        "    err = np.linalg.norm(y - ydata)\n",
        "\n",
        "    plt.figure(figsize=(10, 6))\n",
        "    plt.subplot(2, 1, 1)\n",
        "    plt.plot(t, y)\n",
        "    plt.plot(t, ydata)\n",
        "    plt.legend(['Heater', 'Sensor'])\n",
        "    plt.xlabel('time / sec')\n",
        "    plt.ylabel('temperature change / deg C')\n",
        "    plt.title('Step Reponse of the Temperature Control Laboratory')\n",
        "    plt.grid(True)\n",
        "    \n",
        "    plt.subplot(2, 1, 2)\n",
        "    plt.plot(t, y-ydata)\n",
        "    plt.title('Error = ' + str(round(err,3)))\n",
        "    plt.grid(True)\n",
        "    plt.tight_layout()\n",
        "    \n",
        "interact(compare,\n",
        "    K = (10, 50, .2), \n",
        "    tau1 = (10, 180, 1), \n",
        "    tau2 = (10, 180, 1))"
      ],
      "execution_count": 0,
      "outputs": [
        {
          "output_type": "display_data",
          "data": {
            "application/vnd.jupyter.widget-view+json": {
              "model_id": "70af7d22bf9b48369211d57b9a56d27e",
              "version_major": 2,
              "version_minor": 0
            },
            "text/plain": [
              "interactive(children=(FloatSlider(value=30.0, description='K', max=50.0, min=10.0, step=0.2), IntSlider(value=…"
            ]
          },
          "metadata": {
            "tags": []
          }
        },
        {
          "output_type": "execute_result",
          "data": {
            "text/plain": [
              "<function __main__.compare(K, tau1, tau2)>"
            ]
          },
          "metadata": {
            "tags": []
          },
          "execution_count": 20
        }
      ]
    },
    {
      "metadata": {
        "id": "TWDa-1bl45OB",
        "colab_type": "text"
      },
      "cell_type": "markdown",
      "source": [
        "### Exercises\n",
        "\n",
        "1. Use the sliders above to find best fit values for $U_a$, $U_c$, $C^H_p$, $C^S_p$ for the two state model of the temperature control laboratory.  Report your results to two digits, including values for the total error. Estimate the individual time constants for the heater and sensor by computing the ratios $\\tau_H = \\frac{C^H_p}{U_a}$ and $\\tau_S = \\frac{C^S_p}{U_c}$.\n",
        "\n",
        "2. In a new Jupyter notebook, develop and implement a state-space model for problem 2.3 of the textbook. Signal $w_1$ is the input to the system, and flowrates $w_2$ and $w_3$ are the process outputs. Is the system underdamped or overdamped? Use the chart in Figure 5.9 to estimate the period and decay ratio. Use the chart in Figure 5.10 to estimate the damping factor $\\zeta$.\n",
        "\n",
        "NOTE: For problem 2, use $A_1$ = 2 square meter, $A_2$ = 1 square meter, $R_2$ = 10 and $R3$ = 5 where flow is given in units of cubic meters per minute.  Consult equation 2-56 on how to use these parameters"
      ]
    },
    {
      "metadata": {
        "id": "PEGHg08q45OC",
        "colab_type": "code",
        "colab": {}
      },
      "cell_type": "code",
      "source": [
        ""
      ],
      "execution_count": 0,
      "outputs": []
    }
  ]
}