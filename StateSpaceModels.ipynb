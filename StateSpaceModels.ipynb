{
  "nbformat": 4,
  "nbformat_minor": 0,
  "metadata": {
    "colab": {
      "name": "StateSpaceModels.ipynb",
      "version": "0.3.2",
      "provenance": [],
      "include_colab_link": true
    },
    "kernelspec": {
      "display_name": "Python 3",
      "language": "python",
      "name": "python3"
    }
  },
  "cells": [
    {
      "cell_type": "markdown",
      "metadata": {
        "id": "view-in-github",
        "colab_type": "text"
      },
      "source": [
        "<a href=\"https://colab.research.google.com/github/lfast1/CHE30324/blob/master/StateSpaceModels.ipynb\" target=\"_parent\"><img src=\"https://colab.research.google.com/assets/colab-badge.svg\" alt=\"Open In Colab\"/></a>"
      ]
    },
    {
      "metadata": {
        "id": "1-lFRWPN22bh",
        "colab_type": "text"
      },
      "cell_type": "markdown",
      "source": [
        "# State-Space Models\n",
        "\n",
        "CBE 30338 Class notes for 2/28/2019"
      ]
    },
    {
      "metadata": {
        "id": "_NdB3LWa22bj",
        "colab_type": "text"
      },
      "cell_type": "markdown",
      "source": [
        "## Install the Python Control Systems Library\n",
        "\n",
        "This notebook will use functions from the [Python Control Systems Library](https://python-control.readthedocs.io/en/0.8.1/index.html) to work with state-space models. The installation is straightforward but typically takes more time than other library installations. Expect anywhere from 1 to 10 minutes to complete the one-time installation."
      ]
    },
    {
      "metadata": {
        "id": "JA699MQr22bj",
        "colab_type": "text"
      },
      "cell_type": "markdown",
      "source": [
        "### Instructons for Anaconda"
      ]
    },
    {
      "metadata": {
        "id": "Hz7oGjSl22bk",
        "colab_type": "code",
        "colab": {}
      },
      "cell_type": "code",
      "source": [
        "#!conda install -c conda-forge control -y"
      ],
      "execution_count": 0,
      "outputs": []
    },
    {
      "metadata": {
        "id": "4_3xM65L22bn",
        "colab_type": "text"
      },
      "cell_type": "markdown",
      "source": [
        "### Instructions for Google Colab"
      ]
    },
    {
      "metadata": {
        "id": "28m5Jmr322bn",
        "colab_type": "code",
        "colab": {}
      },
      "cell_type": "code",
      "source": [
        "#!pip install slycot\n",
        "#!pip install control"
      ],
      "execution_count": 0,
      "outputs": []
    },
    {
      "metadata": {
        "id": "-IBTpl9v22bp",
        "colab_type": "text"
      },
      "cell_type": "markdown",
      "source": [
        "### Test Installation\n",
        "\n",
        "The following cell should execute without error if the Python Control Systems Library has been correctly installed."
      ]
    },
    {
      "metadata": {
        "id": "G1KYYc6g22bq",
        "colab_type": "code",
        "colab": {}
      },
      "cell_type": "code",
      "source": [
        "!python -c \"import control\""
      ],
      "execution_count": 0,
      "outputs": []
    },
    {
      "metadata": {
        "id": "g48DswIy22bs",
        "colab_type": "text"
      },
      "cell_type": "markdown",
      "source": [
        "## Introduction to State-Space Models\n",
        "\n",
        "A state-space model is one where the dynamics of the **state** $x$ is modeled by a first order differential equation with input $u$\n",
        "\n",
        "\\begin{align*}\n",
        "\\frac{dx}{dt} & = Ax + Bu \\\\\n",
        "y & = C x + D u \n",
        "\\end{align*}\n",
        "\n",
        "The second equation provides for the case where the process output $y$ is different from the state. Normally $x$, $y$, and $u$ are deviation variables.  $A$, $B$, $C$, and $D$ are parameters.\n",
        " "
      ]
    },
    {
      "metadata": {
        "id": "ofzoNG7522bs",
        "colab_type": "text"
      },
      "cell_type": "markdown",
      "source": [
        "#### Example: Temperature Control Laboratory\n",
        "\n",
        "As an example, consider our model equation for temperature control lab experiment,\n",
        "\n",
        "\\begin{align*}\n",
        "C_p \\frac{dT}{dt} & = U_a(T_{amb} - T) + P u \\\\\n",
        "\\end{align*}\n",
        "\n",
        "We'll define the state as the deviation variable $x = T - T_{amb}$ where we directly measure $x$. The state-space model becomes\n",
        "\n",
        "\\begin{align*}\n",
        "\\frac{dx}{dt} & = \\underbrace{-\\frac{U_a}{C_p}}_{A} x + \\underbrace{\\frac{P}{C_p}}_{B} u \\\\\n",
        "y  & = \\underbrace{(1)}_C x + \\underbrace{(0)}_D u\n",
        "\\end{align*}\n",
        "\n",
        "The next cell shows how to create a state-space model using the Python Control Systems Library using data measured on the Temperature Control Laboratory.  There are many things that can be done with a state-space model, such as plotting the response to unit step input as shown in the next cell."
      ]
    },
    {
      "metadata": {
        "id": "3XRJWWUn22bt",
        "colab_type": "code",
        "colab": {},
        "outputId": "0f5b446d-d1c3-44c2-fce3-d9df366a860b"
      },
      "cell_type": "code",
      "source": [
        "%matplotlib inline\n",
        "import matplotlib.pyplot as plt\n",
        "import numpy as np\n",
        "import control\n",
        "\n",
        "P = 4        # watts\n",
        "Ua = P/55    # determined from steady-state step response\n",
        "Cp = 180*Ua  # determined from first-order time constant tau = 250\n",
        "\n",
        "A = -Ua/Cp\n",
        "B = P/Cp\n",
        "C = 1\n",
        "D = 0\n",
        "\n",
        "# create the state space model object\n",
        "tclab = control.StateSpace(A, B, C, D)\n",
        "print(tclab)\n",
        "\n",
        "# plot the response to a unit step input\n",
        "t = np.linspace(0, 800)\n",
        "t, y = control.step_response(tclab, t)\n",
        "\n",
        "plt.plot(t,y)\n",
        "plt.xlabel('time / sec')\n",
        "plt.ylabel('temperature change / deg C')\n",
        "plt.title('Step Reponse of the Temperature Control Laboratory')\n",
        "plt.grid(True)"
      ],
      "execution_count": 0,
      "outputs": [
        {
          "output_type": "stream",
          "text": [
            "A = [[-0.00555556]]\n",
            "\n",
            "B = [[0.30555556]]\n",
            "\n",
            "C = [[1]]\n",
            "\n",
            "D = [[0]]\n",
            "\n"
          ],
          "name": "stdout"
        },
        {
          "output_type": "display_data",
          "data": {
            "image/png": "[encoded data removed]",
            "text/plain": [
              "<Figure size 432x288 with 1 Axes>"
            ]
          },
          "metadata": {
            "tags": [],
            "needs_background": "light"
          }
        }
      ]
    },
    {
      "metadata": {
        "id": "AbpOFM3822bx",
        "colab_type": "text"
      },
      "cell_type": "markdown",
      "source": [
        "#### Example: Generic First-Order Process Model\n",
        "\n",
        "For process control it is useful to define a generic first-order model defined by a characteristic time constant $\\tau$ and steady-state gain $K$ that is written as\n",
        "\n",
        "\\begin{align*}\n",
        "\\tau \\frac{dy}{dt} + y & = K u \\\\\n",
        "\\end{align*}\n",
        "\n",
        "where $u$ is a deviation in a process input, and $y$ is the observed deviation in process response.\n",
        "\n",
        "This model can be rearranged into state-space form. First identify the state as $x = y$. Then rearrange the equations into the following form\n",
        "\n",
        "\\begin{align*}\n",
        "\\frac{dx}{dt} & = \\underbrace{-\\frac{1}{\\tau}}_{A} x + \\underbrace{\\frac{K}{\\tau}}_{B} u \\\\\n",
        "y  & = \\underbrace{(1)}_C x + \\underbrace{(0)}_D u\n",
        "\\end{align*}\n",
        "\n",
        "The next cell demonstrates how to plot the step response for a system with a time constant of $\\tau=3$ minutes and a gain $K = 12$. Here we let the step response function automatically generate the time grid."
      ]
    },
    {
      "metadata": {
        "id": "FMhgneAo22bz",
        "colab_type": "code",
        "colab": {},
        "outputId": "a4fd788a-8e6d-4703-f90b-49429b668814"
      },
      "cell_type": "code",
      "source": [
        "%matplotlib inline\n",
        "import matplotlib.pyplot as plt\n",
        "import numpy as np\n",
        "import control \n",
        "\n",
        "tau = 3\n",
        "K = 12\n",
        "\n",
        "A = -1/tau\n",
        "B = K/tau\n",
        "C = 1\n",
        "D = 0\n",
        "\n",
        "# create the state space model object\n",
        "sys = control.StateSpace(A, B, C, D)\n",
        "print(sys)\n",
        "\n",
        "# plot the response to a unit step input\n",
        "t, y = control.step_response(sys)\n",
        "\n",
        "plt.plot(t,y)\n",
        "plt.xlabel('time / sec')\n",
        "plt.ylabel('temperature change / deg C')\n",
        "plt.title('Step Reponse of the Temperature Control Laboratory')\n",
        "plt.grid(True)"
      ],
      "execution_count": 0,
      "outputs": [
        {
          "output_type": "stream",
          "text": [
            "A = [[-0.33333333]]\n",
            "\n",
            "B = [[4.]]\n",
            "\n",
            "C = [[1]]\n",
            "\n",
            "D = [[0]]\n",
            "\n"
          ],
          "name": "stdout"
        },
        {
          "output_type": "display_data",
          "data": {
            "image/png": "[encoded data removed]",
            "text/plain": [
              "<Figure size 432x288 with 1 Axes>"
            ]
          },
          "metadata": {
            "tags": [],
            "needs_background": "light"
          }
        }
      ]
    },
    {
      "metadata": {
        "id": "-jG3dVVA22b2",
        "colab_type": "text"
      },
      "cell_type": "markdown",
      "source": [
        "### Exercises\n",
        "\n",
        "1. Create a state space model for a gravity drained tank."
      ]
    },
    {
      "metadata": {
        "id": "Ll1ifOtY22b3",
        "colab_type": "text"
      },
      "cell_type": "markdown",
      "source": [
        "## Multivariable State Space Models\n",
        "\n",
        "\n",
        "### Temperature Control Lab\n",
        "\n",
        "\\begin{align*}\n",
        "C^H_p \\frac{dT_H}{dt} & = U_a (T_{amb} - T_H) + U_c(T_S - T_H) + P u \\\\\n",
        "C^S_p \\frac{dT_S}{dt} & = U_c(T_H - T_S)\n",
        "\\end{align*}\n",
        "\n",
        "Define two state variables where $x_1 = T_H - T_{amb}$ refers to deviations in the heater temperature from room temperature due to the heater input, and $x_2 = T_S - T_{amb}$ is the deviation in the sensor temperature from room temperature.  Because $x_1$ and $x_2$ use the same reference for computing deviations, $T_S - T_H = x_2 - x_1$.  \n",
        "\n",
        "\\begin{align*}\n",
        "C^H_p \\frac{dx_1}{dt} & = -U_a x_1 + U_c(x_2 - x_1) + P u \\\\\n",
        "C^S_p \\frac{dT_S}{dt} & = U_c(x_1 - x_2)\n",
        "\\end{align*}\n",
        "\n",
        "Gathering terms in $x_1$ and $x_2$, and adding an algebraic equation to show how the available measurements are related to the state variables\n",
        "\n",
        "\\begin{align*}\n",
        "\\frac{dx_1}{dt} & = -\\frac{(U_a + U_c)}{C^H_p} x_1 + \\frac{U_c}{C^H_p} x_2 + P u \\\\\n",
        "\\frac{dx_2}{dt} & = \\frac{U_c}{C^S_p} x_1 -  \\frac{U_c}{C^S_p} x_2 \\\\\n",
        "y & = x_2\n",
        "\\end{align*}\n",
        "\n",
        "The next step is streamline this model using a matrix/vector notation\n",
        "\n",
        "\\begin{align*}\n",
        "\\frac{d}{dt}\\begin{bmatrix} x_1 \\\\ x_2 \\end{bmatrix} & = \n",
        "\\begin{bmatrix} -\\frac{(U_a + U_c)}{C^H_p} & \\frac{U_c}{C^H_p} \\\\ \\frac{U_c}{C^S_p} & -\\frac{U_c}{C^S_p} \\end{bmatrix}\\begin{bmatrix} x_1 \\\\ x_2 \\end{bmatrix} +\n",
        "\\begin{bmatrix} P \\\\ 0 \\end{bmatrix} u \\\\\n",
        "y & = \\begin{bmatrix} 0 &  1 \\end{bmatrix}\\begin{bmatrix} x_1 \\\\ x_2 \\end{bmatrix} + \\begin{bmatrix} 0 \\end{bmatrix} u\n",
        "\\end{align*}\n",
        "\n",
        "Next, let's label the matrices and vectors\n",
        "\n",
        "\\begin{align*}\n",
        "\\frac{d}{dt}\\begin{bmatrix} x_1 \\\\ x_2 \\end{bmatrix} & = \n",
        "\\underbrace{\\begin{bmatrix} -\\frac{(U_a + U_c)}{C^H_p} & \\frac{U_c}{C^H_p} \\\\ \\frac{U_c}{C^S_p} & -\\frac{U_c}{C^S_p} \\end{bmatrix}}_A \\underbrace{\\begin{bmatrix} x_1 \\\\ x_2 \\end{bmatrix}}_x +\n",
        "\\underbrace{\\begin{bmatrix} P \\\\ 0 \\end{bmatrix}}_B u \\\\\n",
        "y & = \\underbrace{\\begin{bmatrix} 0 &  1 \\end{bmatrix}}_C \n",
        "\\underbrace{\\begin{bmatrix} x_1 \\\\ x_2 \\end{bmatrix}}_x + \\underbrace{\\begin{bmatrix} 0 \\end{bmatrix}}_D u\n",
        "\\end{align*}\n",
        "\n"
      ]
    },
    {
      "metadata": {
        "id": "-SopIx0x22b4",
        "colab_type": "code",
        "colab": {},
        "outputId": "3fcda6c2-1ead-47b3-de0c-3743cb3dfa63"
      },
      "cell_type": "code",
      "source": [
        "%matplotlib inline\n",
        "import matplotlib.pyplot as plt\n",
        "import numpy as np\n",
        "import control \n",
        "\n",
        "u = 0.5\n",
        "P = 4*u        # watts\n",
        "Ua = P/55      # determined from steady-state step response\n",
        "CpH = 180*Ua   # determined from first-order time constant tau = 250\n",
        "Uc = 0.1*Ua    # estimate\n",
        "CpS = 0.1*CpH  # \n",
        "\n",
        "A = [[-(Ua + Uc)/CpH, Uc/CpH], [Uc/CpS, -Uc/CpS]]\n",
        "B = [[P], [0]]\n",
        "C = [[0, 1]]\n",
        "D = [[0]]\n",
        "\n",
        "# create the state space model object\n",
        "tclab2 = control.StateSpace(A, B, C, D)\n",
        "print(sys)\n",
        "\n",
        "# plot the response to a unit step input\n",
        "t, y = control.step_response(tclab2)\n",
        "\n",
        "plt.plot(t,y)\n",
        "plt.xlabel('time / sec')\n",
        "plt.ylabel('temperature change / deg C')\n",
        "plt.title('Step Response of the Temperature Control Laboratory')\n",
        "plt.grid(True)"
      ],
      "execution_count": 0,
      "outputs": [
        {
          "output_type": "stream",
          "text": [
            "A = [[-0.33333333]]\n",
            "\n",
            "B = [[4.]]\n",
            "\n",
            "C = [[1]]\n",
            "\n",
            "D = [[0]]\n",
            "\n"
          ],
          "name": "stdout"
        },
        {
          "output_type": "display_data",
          "data": {
            "image/png": "[encoded data removed]",
            "text/plain": [
              "<Figure size 432x288 with 1 Axes>"
            ]
          },
          "metadata": {
            "tags": [],
            "needs_background": "light"
          }
        }
      ]
    },
    {
      "metadata": {
        "id": "YP3CjL0o22b6",
        "colab_type": "text"
      },
      "cell_type": "markdown",
      "source": [
        "### Exercise\n",
        "\n",
        "Create a state space model for the coupled tank examples in the textbook."
      ]
    },
    {
      "metadata": {
        "id": "PnMFSoF522b7",
        "colab_type": "text"
      },
      "cell_type": "markdown",
      "source": [
        "## Fitting TCLab Model"
      ]
    },
    {
      "metadata": {
        "id": "KyQdbV8n22b8",
        "colab_type": "code",
        "colab": {},
        "outputId": "4152847c-9d00-43e9-f4bf-2dfa1d80a0e8"
      },
      "cell_type": "code",
      "source": [
        "%matplotlib inline\n",
        "import matplotlib.pyplot as plt\n",
        "import pandas as pd\n",
        "import numpy as np\n",
        "\n",
        "# read data from saved spreadsheet (.csv) file\n",
        "data = pd.read_csv('Step_Test_Data.csv').set_index('Time')[1:]\n",
        "tdata = data.index\n",
        "Tdata = data['T1'].values\n",
        "\n",
        "# interpolate to an evenly spaced time grid\n",
        "t = np.linspace(min(tdata), max(tdata), len(tdata))\n",
        "ydata = np.interp(t, tdata, Tdata-Tdata[0])\n",
        "\n",
        "# plot data\n",
        "plt.plot(t, ydata)\n",
        "plt.xlabel('time / sec')\n",
        "plt.ylabel('temperature change / deg C')\n",
        "plt.title('Experimental Response of the Temperature Control Laboratory')\n",
        "plt.grid(True)"
      ],
      "execution_count": 0,
      "outputs": [
        {
          "output_type": "display_data",
          "data": {
            "image/png": "[encoded data removed]",
            "text/plain": [
              "<Figure size 432x288 with 1 Axes>"
            ]
          },
          "metadata": {
            "tags": [],
            "needs_background": "light"
          }
        }
      ]
    },
    {
      "metadata": {
        "id": "Wy2ajqTJ22cA",
        "colab_type": "code",
        "colab": {},
        "outputId": "d3241491-b640-4efa-fd92-ef7dc27708fa"
      },
      "cell_type": "code",
      "source": [
        "%matplotlib inline\n",
        "import matplotlib.pyplot as plt\n",
        "import numpy as np\n",
        "import control\n",
        "from ipywidgets import interact\n",
        "\n",
        "P = 4*0.5          # watts\n",
        "Ua = P/55      # determined from steady-state step response\n",
        "CpH = 180*Ua   # determined from first-order time constant tau = 250\n",
        "Uc = 0.1*Ua    # estimate\n",
        "CpS = 0.1*CpH  # \n",
        "\n",
        "def compare(Ua, Uc, CpH, CpS):\n",
        "\n",
        "    print('Ua = ' + str(Ua), '\\nUc = ' + str(Uc),\n",
        "          '\\nCpH = ' + str(CpH), '\\nCpH = ' + str(CpS))\n",
        "        \n",
        "    A = [[-(Ua + Uc)/CpH, Uc/CpH], [Uc/CpS, -Uc/CpS]]\n",
        "    B = [[P/CpH], [0]]\n",
        "    C = [[0, 1]]\n",
        "    D = [[0]]\n",
        "\n",
        "    # create the state space model object\n",
        "    tclab2 = control.StateSpace(A, B, C, D)\n",
        "\n",
        "    # plot the response to a unit step input\n",
        "    t = np.linspace(min(tdata), max(tdata), len(tdata))\n",
        "    t, y, x = control.step_response(tclab2, t, return_x=True)\n",
        "    err = np.linalg.norm(x[1] - ydata)\n",
        "\n",
        "    plt.figure(figsize=(10, 6))\n",
        "    plt.subplot(2, 1, 1)\n",
        "    plt.plot(t, x[0], t, x[1])\n",
        "    plt.plot(t, ydata)\n",
        "    plt.legend(['Heater', 'Sensor'])\n",
        "    plt.xlabel('time / sec')\n",
        "    plt.ylabel('temperature change / deg C')\n",
        "    plt.title('Step Reponse of the Temperature Control Laboratory')\n",
        "    plt.grid(True)\n",
        "    \n",
        "    plt.subplot(2, 1, 2)\n",
        "    plt.plot(t, x[1]-ydata)\n",
        "    plt.title('Error = ' + str(round(err,3)))\n",
        "    plt.grid(True)\n",
        "    plt.tight_layout()\n",
        "    \n",
        "interact(compare,\n",
        "    Ua=(0,0.08,0.001), \n",
        "    Uc=(0,0.06,0.001), \n",
        "    CpH=(3,11,0.1), \n",
        "    CpS = (0.1,2,.01))"
      ],
      "execution_count": 0,
      "outputs": [
        {
          "output_type": "display_data",
          "data": {
            "application/vnd.jupyter.widget-view+json": {
              "model_id": "f2923d46065d4bb6a744fd7594432b08",
              "version_major": 2,
              "version_minor": 0
            },
            "text/plain": [
              "interactive(children=(FloatSlider(value=0.04, description='Ua', max=0.08, step=0.001), FloatSlider(value=0.03,…"
            ]
          },
          "metadata": {
            "tags": []
          }
        },
        {
          "output_type": "execute_result",
          "data": {
            "text/plain": [
              "<function __main__.compare(Ua, Uc, CpH, CpS)>"
            ]
          },
          "metadata": {
            "tags": []
          },
          "execution_count": 114
        }
      ]
    },
    {
      "metadata": {
        "id": "-2zqz0cr22cC",
        "colab_type": "text"
      },
      "cell_type": "markdown",
      "source": [
        "## Fitting a Generic Second Order Model\n",
        "\n",
        "A generic model for a stable second order system is given the form\n",
        "\\begin{align*}\n",
        "\\tau^2 \\frac{d^2y}{dt^2} + 2\\zeta\\tau\\frac{dy}{dt} + y & = K u\n",
        "\\end{align*}\n",
        "\n",
        "where $K$ is the steady-state gain, $\\tau$ is a time constant, and $\\zeta$ is the damping factor. A value of $0 \\leq \\zeta \\lt 1$ corresponds to an **underdamped** system, a value $\\zeta > 1$ is **overdamped**, and a value $\\zeta = 1$ separating these two categories is called **critically** damped.\n",
        "\n",
        "Now we'll show how this system can written as a state-space model with two states. Start by choosing\n",
        "\n",
        "\\begin{align*}\n",
        "x_1 & = y \\\\\n",
        "x_2 & = \\frac{dy}{dt}\n",
        "\\end{align*}\n",
        "\n",
        "Taking derivatives\n",
        "\n",
        "\\begin{align*}\n",
        "\\frac{dx_1}{dt} & = \\frac{dy}{dt} = x_2 \\\\\n",
        "\\frac{dx_2}{dt} & = \\frac{d^2y}{dt^2} = -\\frac{1}{\\tau^2}x_1 - \\frac{2\\zeta}{\\tau}x_2 + \\frac{K}{\\tau^2} u\n",
        "\\end{align*}\n",
        "\n",
        "From here we can write out a state-space version of this model\n",
        "\n",
        "\\begin{align*}\n",
        "\\frac{d}{dt}\\begin{bmatrix}x_1 \\\\ x_2\\end{bmatrix} & =\n",
        "\\underbrace{\\begin{bmatrix}0 & 1 \\\\ -\\frac{1}{\\tau^2} & - \\frac{2\\zeta}{\\tau}\\end{bmatrix}}_A \\underbrace{\\begin{bmatrix}x_1 \\\\ x_2\\end{bmatrix}}_x + \\underbrace{\\begin{bmatrix} 0 \\\\ \\frac{K}{\\tau^2}\\end{bmatrix}}_B u \\\\\n",
        "y & = \\underbrace{\\begin{bmatrix}1 & 0\\end{bmatrix}}_C \\underbrace{\\begin{bmatrix}x_1 \\\\ x_2\\end{bmatrix}}_x + \\underbrace{\\begin{bmatrix}0\\end{bmatrix}}_D u\n",
        "\\end{align*}"
      ]
    },
    {
      "metadata": {
        "id": "yoPLjPyC22cD",
        "colab_type": "code",
        "colab": {},
        "outputId": "3f05f8a9-aae4-4e6f-d890-2841740a4c8b"
      },
      "cell_type": "code",
      "source": [
        "%matplotlib inline\n",
        "import matplotlib.pyplot as plt\n",
        "import numpy as np\n",
        "import control\n",
        "from ipywidgets import interact\n",
        "\n",
        "# read data from saved spreadsheet (.csv) file\n",
        "data = pd.read_csv('Step_Test_Data.csv').set_index('Time')[1:]\n",
        "tdata = data.index\n",
        "Tdata = data['T1'].values\n",
        "\n",
        "# interpolate to an evenly spaced time grid\n",
        "t = np.linspace(min(tdata), max(tdata), len(tdata))\n",
        "ydata = np.interp(t, tdata, Tdata-Tdata[0])\n",
        "\n",
        "K = 35        # determined from first-order time constant tau = 250\n",
        "tau = 150      # time constant\n",
        "zeta = 1      # determined from steady-state step response\n",
        "\n",
        "def compare(K, tau, zeta):\n",
        "\n",
        "    print('K = ' + str(K), '\\ntau = ' + str(tau), '\\nzeta = ' + str(zeta))\n",
        "        \n",
        "    A = [[0, 1], [-1/tau**2, -2*zeta/tau]]\n",
        "    B = [[0], [K/tau**2]]\n",
        "    C = [[1, 0]]\n",
        "    D = [[0]]\n",
        "\n",
        "    # create the state space model object\n",
        "    tclab2 = control.StateSpace(A, B, C, D)\n",
        "\n",
        "    # plot the response to a unit step input\n",
        "    t = np.linspace(min(tdata), max(tdata), len(tdata))\n",
        "    t, y = control.step_response(tclab2, t)\n",
        "    err = np.linalg.norm(x[1] - ydata)\n",
        "\n",
        "    plt.figure(figsize=(10, 6))\n",
        "    plt.subplot(2, 1, 1)\n",
        "    plt.plot(t, y)\n",
        "    plt.plot(t, ydata)\n",
        "    plt.legend(['Heater', 'Sensor'])\n",
        "    plt.xlabel('time / sec')\n",
        "    plt.ylabel('temperature change / deg C')\n",
        "    plt.title('Step Reponse of the Temperature Control Laboratory')\n",
        "    plt.grid(True)\n",
        "    \n",
        "    plt.subplot(2, 1, 2)\n",
        "    plt.plot(t, y-ydata)\n",
        "    plt.title('Error = ' + str(round(err,3)))\n",
        "    plt.grid(True)\n",
        "    plt.tight_layout()\n",
        "    \n",
        "interact(compare,\n",
        "    K = (0, 50, .5), \n",
        "    tau = (10, 180, 2), \n",
        "    zeta = (0, 3, .03))"
      ],
      "execution_count": 0,
      "outputs": [
        {
          "output_type": "display_data",
          "data": {
            "application/vnd.jupyter.widget-view+json": {
              "model_id": "b5edeb4acf60460bbb759ae5a701781a",
              "version_major": 2,
              "version_minor": 0
            },
            "text/plain": [
              "interactive(children=(FloatSlider(value=25.0, description='K', max=50.0, step=0.5), IntSlider(value=94, descri…"
            ]
          },
          "metadata": {
            "tags": []
          }
        },
        {
          "output_type": "execute_result",
          "data": {
            "text/plain": [
              "<function __main__.compare(K, tau, zeta)>"
            ]
          },
          "metadata": {
            "tags": []
          },
          "execution_count": 122
        }
      ]
    },
    {
      "metadata": {
        "id": "ydoDCGp122cF",
        "colab_type": "text"
      },
      "cell_type": "markdown",
      "source": [
        "## Two First Order Systems in Series\n",
        "\n",
        "\\begin{align*}\n",
        "\\tau_1\\frac{dy_1}{dt} + y_1 & = K_1 u \\\\\n",
        "\\tau_2\\frac{dy_2}{dt} + y_2 & = K_2 y_1 \n",
        "\\end{align*}\n",
        "\n",
        "Recasting as a state-space model\n",
        "\n",
        "\\begin{align*}\n",
        "\\frac{d}{dt}\\begin{bmatrix}x_1 \\\\ x_2\\end{bmatrix} & =\n",
        "\\underbrace{\\begin{bmatrix}-\\frac{1}{\\tau_1} & 0 \\\\ \\frac{K_2}{\\tau_2} & - \\frac{1}{\\tau_2}\\end{bmatrix}}_A \\underbrace{\\begin{bmatrix}x_1 \\\\ x_2\\end{bmatrix}}_x + \\underbrace{\\begin{bmatrix} \\frac{K_1}{\\tau_1} \\\\ 0\\end{bmatrix}}_B u \\\\\n",
        "y & = \\underbrace{\\begin{bmatrix}0 & 1\\end{bmatrix}}_C \\underbrace{\\begin{bmatrix}x_1 \\\\ x_2\\end{bmatrix}}_x + \\underbrace{\\begin{bmatrix}0\\end{bmatrix}}_D u\n",
        "\\end{align*}"
      ]
    },
    {
      "metadata": {
        "id": "vGwM8OjG22cG",
        "colab_type": "code",
        "colab": {},
        "outputId": "ace331f4-1607-43ad-ca9d-4ea16882d3c2"
      },
      "cell_type": "code",
      "source": [
        "%matplotlib inline\n",
        "import matplotlib.pyplot as plt\n",
        "import numpy as np\n",
        "import control\n",
        "from ipywidgets import interact\n",
        "\n",
        "# read data from saved spreadsheet (.csv) file\n",
        "data = pd.read_csv('Step_Test_Data.csv').set_index('Time')[1:]\n",
        "tdata = data.index\n",
        "Tdata = data['T1'].values\n",
        "\n",
        "# interpolate to an evenly spaced time grid\n",
        "t = np.linspace(min(tdata), max(tdata), len(tdata))\n",
        "ydata = np.interp(t, tdata, Tdata-Tdata[0])\n",
        "\n",
        "K = 35        # determined from first-order time constant tau = 250\n",
        "tau1 = 80      # time constant\n",
        "tau2 = 20     # determined from steady-state step response\n",
        "\n",
        "def compare(K, tau1, tau2):\n",
        "\n",
        "    print('K = ' + str(K), '\\ntau1 = ' + str(tau1), '\\ntau2 = ' + str(tau2))\n",
        "        \n",
        "    A = [[0, -1/tau1], [1/tau2, -1/tau2]]\n",
        "    B = [[K/tau1], [0]]\n",
        "    C = [[0, 1]]\n",
        "    D = [[0]]\n",
        "\n",
        "    # create the state space model object\n",
        "    tclab2 = control.StateSpace(A, B, C, D)\n",
        "\n",
        "    # plot the response to a unit step input\n",
        "    t = np.linspace(min(tdata), max(tdata), len(tdata))\n",
        "    t, y = control.step_response(tclab2, t)\n",
        "    err = np.linalg.norm(x[1] - ydata)\n",
        "\n",
        "    plt.figure(figsize=(10, 6))\n",
        "    plt.subplot(2, 1, 1)\n",
        "    plt.plot(t, y)\n",
        "    plt.plot(t, ydata)\n",
        "    plt.legend(['Heater', 'Sensor'])\n",
        "    plt.xlabel('time / sec')\n",
        "    plt.ylabel('temperature change / deg C')\n",
        "    plt.title('Step Reponse of the Temperature Control Laboratory')\n",
        "    plt.grid(True)\n",
        "    \n",
        "    plt.subplot(2, 1, 2)\n",
        "    plt.plot(t, y-ydata)\n",
        "    plt.title('Error = ' + str(round(err,3)))\n",
        "    plt.grid(True)\n",
        "    plt.tight_layout()\n",
        "    \n",
        "interact(compare,\n",
        "    K = (0, 50, .5), \n",
        "    tau1 = (10, 180, 2), \n",
        "    tau2 = (10, 180, 2))"
      ],
      "execution_count": 0,
      "outputs": [
        {
          "output_type": "display_data",
          "data": {
            "application/vnd.jupyter.widget-view+json": {
              "model_id": "eb9dfa721ada4fb68e042581fb8922a4",
              "version_major": 2,
              "version_minor": 0
            },
            "text/plain": [
              "interactive(children=(FloatSlider(value=25.0, description='K', max=50.0, step=0.5), IntSlider(value=94, descri…"
            ]
          },
          "metadata": {
            "tags": []
          }
        },
        {
          "output_type": "execute_result",
          "data": {
            "text/plain": [
              "<function __main__.compare(K, tau1, tau2)>"
            ]
          },
          "metadata": {
            "tags": []
          },
          "execution_count": 125
        }
      ]
    },
    {
      "metadata": {
        "id": "6fUUE95722cJ",
        "colab_type": "code",
        "colab": {},
        "outputId": "4c109dd9-2281-4e77-d455-e21ebaaac9fb"
      },
      "cell_type": "code",
      "source": [
        "tclab2"
      ],
      "execution_count": 0,
      "outputs": [
        {
          "output_type": "execute_result",
          "data": {
            "text/plain": [
              "A = [[-0.00611111  0.00055556]\n",
              " [ 0.00555556 -0.00555556]]\n",
              "\n",
              "B = [[4]\n",
              " [0]]\n",
              "\n",
              "C = [[0 1]]\n",
              "\n",
              "D = [[0]]"
            ]
          },
          "metadata": {
            "tags": []
          },
          "execution_count": 34
        }
      ]
    },
    {
      "metadata": {
        "id": "BRernVhf22cN",
        "colab_type": "code",
        "colab": {}
      },
      "cell_type": "code",
      "source": [
        "t, y = control."
      ],
      "execution_count": 0,
      "outputs": []
    }
  ]
}